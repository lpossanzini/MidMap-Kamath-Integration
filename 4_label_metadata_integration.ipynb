{
 "cells": [
  {
   "cell_type": "code",
   "execution_count": 71,
   "id": "ba09d204",
   "metadata": {},
   "outputs": [],
   "source": [
    "#adata.write('/hpc/hers_basak/rnaseq_data/Basaklab/lpossanzini/kamath/extra/filtered_adata_cellbender.h5ad')"
   ]
  },
  {
   "cell_type": "code",
   "execution_count": 2,
   "id": "6d1a7863",
   "metadata": {},
   "outputs": [
    {
     "name": "stderr",
     "output_type": "stream",
     "text": [
      "/hpc/hers_basak/bin/miniconda3/envs/sc2_seurat/lib/python3.9/site-packages/anndata/_core/anndata.py:1906: UserWarning: Observation names are not unique. To make them unique, call `.obs_names_make_unique`.\n",
      "  utils.warn_names_duplicates(\"obs\")\n"
     ]
    }
   ],
   "source": [
    "import scanpy as sc\n",
    "import anndata as ad\n",
    "import pandas as pd\n",
    "import numpy as np\n",
    "import matplotlib.pyplot as plt\n",
    "output_dir = '/hpc/hers_basak/rnaseq_data/Basaklab/lpossanzini/kamath/extra/deliverables/'\n",
    "sc.settings.figdir = output_dir\n",
    "adata = sc.read_h5ad('/hpc/hers_basak/rnaseq_data/Basaklab/lpossanzini/kamath/extra/filtered_adata_cellbender.h5ad')"
   ]
  },
  {
   "cell_type": "code",
   "execution_count": 3,
   "id": "2c537f79",
   "metadata": {},
   "outputs": [],
   "source": [
    "adata_published = sc.read_h5ad('/hpc/hers_basak/rnaseq_data/Basaklab/lpossanzini/kamath/extra/filtered_published_kamath/adata_published.h5ad')\n"
   ]
  },
  {
   "cell_type": "code",
   "execution_count": 4,
   "id": "185a7588",
   "metadata": {},
   "outputs": [
    {
     "data": {
      "text/html": [
       "<div>\n",
       "<style scoped>\n",
       "    .dataframe tbody tr th:only-of-type {\n",
       "        vertical-align: middle;\n",
       "    }\n",
       "\n",
       "    .dataframe tbody tr th {\n",
       "        vertical-align: top;\n",
       "    }\n",
       "\n",
       "    .dataframe thead th {\n",
       "        text-align: right;\n",
       "    }\n",
       "</style>\n",
       "<table border=\"1\" class=\"dataframe\">\n",
       "  <thead>\n",
       "    <tr style=\"text-align: right;\">\n",
       "      <th></th>\n",
       "      <th>Sample_name</th>\n",
       "      <th>barcode</th>\n",
       "      <th>leiden</th>\n",
       "    </tr>\n",
       "  </thead>\n",
       "  <tbody>\n",
       "    <tr>\n",
       "      <th>pPDCN3839DAPIA030419_AAACCCAAGAATCGCG-1</th>\n",
       "      <td>pPDCN3839DAPIA030419</td>\n",
       "      <td>AAACCCAAGAATCGCG-1</td>\n",
       "      <td>30</td>\n",
       "    </tr>\n",
       "    <tr>\n",
       "      <th>pPDCN3839DAPIA030419_ACCCAAAGTATCTCTT-1</th>\n",
       "      <td>pPDCN3839DAPIA030419</td>\n",
       "      <td>ACCCAAAGTATCTCTT-1</td>\n",
       "      <td>24</td>\n",
       "    </tr>\n",
       "    <tr>\n",
       "      <th>pPDCN3839DAPIA030419_ACCCTCAGTAGGACCA-1</th>\n",
       "      <td>pPDCN3839DAPIA030419</td>\n",
       "      <td>ACCCTCAGTAGGACCA-1</td>\n",
       "      <td>30</td>\n",
       "    </tr>\n",
       "    <tr>\n",
       "      <th>pPDCN3839DAPIA030419_ACTACGAGTTGTGTAC-1</th>\n",
       "      <td>pPDCN3839DAPIA030419</td>\n",
       "      <td>ACTACGAGTTGTGTAC-1</td>\n",
       "      <td>30</td>\n",
       "    </tr>\n",
       "    <tr>\n",
       "      <th>pPDCN3839DAPIA030419_ACTTTGTGTGCTATTG-1</th>\n",
       "      <td>pPDCN3839DAPIA030419</td>\n",
       "      <td>ACTTTGTGTGCTATTG-1</td>\n",
       "      <td>30</td>\n",
       "    </tr>\n",
       "    <tr>\n",
       "      <th>...</th>\n",
       "      <td>...</td>\n",
       "      <td>...</td>\n",
       "      <td>...</td>\n",
       "    </tr>\n",
       "    <tr>\n",
       "      <th>pPDsHSrSNxi6173d200429PosB_CAGATACGTATTGACC-1</th>\n",
       "      <td>pPDsHSrSNxi6173d200429PosB</td>\n",
       "      <td>CAGATACGTATTGACC-1</td>\n",
       "      <td>5</td>\n",
       "    </tr>\n",
       "    <tr>\n",
       "      <th>pPDsHSrSNxi6173d200429PosB_CATTCCGGTCATGACT-1</th>\n",
       "      <td>pPDsHSrSNxi6173d200429PosB</td>\n",
       "      <td>CATTCCGGTCATGACT-1</td>\n",
       "      <td>5</td>\n",
       "    </tr>\n",
       "    <tr>\n",
       "      <th>pPDsHSrSNxi6173d200429PosB_GCTTGGGTCCCAATAG-1</th>\n",
       "      <td>pPDsHSrSNxi6173d200429PosB</td>\n",
       "      <td>GCTTGGGTCCCAATAG-1</td>\n",
       "      <td>5</td>\n",
       "    </tr>\n",
       "    <tr>\n",
       "      <th>pPDsHSrSNxi6173d200429PosB_TACCGGGTCGAGAAAT-1</th>\n",
       "      <td>pPDsHSrSNxi6173d200429PosB</td>\n",
       "      <td>TACCGGGTCGAGAAAT-1</td>\n",
       "      <td>5</td>\n",
       "    </tr>\n",
       "    <tr>\n",
       "      <th>pPDsHSrSNxi6173d200429PosB_CGCGTGAAGCTGGCCT-1</th>\n",
       "      <td>pPDsHSrSNxi6173d200429PosB</td>\n",
       "      <td>CGCGTGAAGCTGGCCT-1</td>\n",
       "      <td>5</td>\n",
       "    </tr>\n",
       "  </tbody>\n",
       "</table>\n",
       "<p>434354 rows × 3 columns</p>\n",
       "</div>"
      ],
      "text/plain": [
       "                                                              Sample_name  \\\n",
       "pPDCN3839DAPIA030419_AAACCCAAGAATCGCG-1              pPDCN3839DAPIA030419   \n",
       "pPDCN3839DAPIA030419_ACCCAAAGTATCTCTT-1              pPDCN3839DAPIA030419   \n",
       "pPDCN3839DAPIA030419_ACCCTCAGTAGGACCA-1              pPDCN3839DAPIA030419   \n",
       "pPDCN3839DAPIA030419_ACTACGAGTTGTGTAC-1              pPDCN3839DAPIA030419   \n",
       "pPDCN3839DAPIA030419_ACTTTGTGTGCTATTG-1              pPDCN3839DAPIA030419   \n",
       "...                                                                   ...   \n",
       "pPDsHSrSNxi6173d200429PosB_CAGATACGTATTGACC-1  pPDsHSrSNxi6173d200429PosB   \n",
       "pPDsHSrSNxi6173d200429PosB_CATTCCGGTCATGACT-1  pPDsHSrSNxi6173d200429PosB   \n",
       "pPDsHSrSNxi6173d200429PosB_GCTTGGGTCCCAATAG-1  pPDsHSrSNxi6173d200429PosB   \n",
       "pPDsHSrSNxi6173d200429PosB_TACCGGGTCGAGAAAT-1  pPDsHSrSNxi6173d200429PosB   \n",
       "pPDsHSrSNxi6173d200429PosB_CGCGTGAAGCTGGCCT-1  pPDsHSrSNxi6173d200429PosB   \n",
       "\n",
       "                                                          barcode leiden  \n",
       "pPDCN3839DAPIA030419_AAACCCAAGAATCGCG-1        AAACCCAAGAATCGCG-1     30  \n",
       "pPDCN3839DAPIA030419_ACCCAAAGTATCTCTT-1        ACCCAAAGTATCTCTT-1     24  \n",
       "pPDCN3839DAPIA030419_ACCCTCAGTAGGACCA-1        ACCCTCAGTAGGACCA-1     30  \n",
       "pPDCN3839DAPIA030419_ACTACGAGTTGTGTAC-1        ACTACGAGTTGTGTAC-1     30  \n",
       "pPDCN3839DAPIA030419_ACTTTGTGTGCTATTG-1        ACTTTGTGTGCTATTG-1     30  \n",
       "...                                                           ...    ...  \n",
       "pPDsHSrSNxi6173d200429PosB_CAGATACGTATTGACC-1  CAGATACGTATTGACC-1      5  \n",
       "pPDsHSrSNxi6173d200429PosB_CATTCCGGTCATGACT-1  CATTCCGGTCATGACT-1      5  \n",
       "pPDsHSrSNxi6173d200429PosB_GCTTGGGTCCCAATAG-1  GCTTGGGTCCCAATAG-1      5  \n",
       "pPDsHSrSNxi6173d200429PosB_TACCGGGTCGAGAAAT-1  TACCGGGTCGAGAAAT-1      5  \n",
       "pPDsHSrSNxi6173d200429PosB_CGCGTGAAGCTGGCCT-1  CGCGTGAAGCTGGCCT-1      5  \n",
       "\n",
       "[434354 rows x 3 columns]"
      ]
     },
     "execution_count": 4,
     "metadata": {},
     "output_type": "execute_result"
    }
   ],
   "source": [
    "adata_published.obs"
   ]
  },
  {
   "cell_type": "markdown",
   "id": "503aa40e",
   "metadata": {},
   "source": [
    "### Retrieving the order of the SRR files used originally to create the concatenated object"
   ]
  },
  {
   "cell_type": "code",
   "execution_count": 2,
   "id": "787c06bd",
   "metadata": {
    "collapsed": true
   },
   "outputs": [
    {
     "name": "stdout",
     "output_type": "stream",
     "text": [
      "File 0: /hpc/hers_basak/rnaseq_data/Basaklab/lpossanzini/kamath/cellbender/SRR20110141/SRR20110141_cellbender_filtered.h5\n",
      "File 1: /hpc/hers_basak/rnaseq_data/Basaklab/lpossanzini/kamath/cellbender/SRR20110079/SRR20110079_cellbender_filtered.h5\n",
      "File 2: /hpc/hers_basak/rnaseq_data/Basaklab/lpossanzini/kamath/cellbender/SRR20110097/SRR20110097_cellbender_filtered.h5\n",
      "File 3: /hpc/hers_basak/rnaseq_data/Basaklab/lpossanzini/kamath/cellbender/SRR20110085/SRR20110085_cellbender_filtered.h5\n",
      "File 4: /hpc/hers_basak/rnaseq_data/Basaklab/lpossanzini/kamath/cellbender/SRR20110113/SRR20110113_cellbender_filtered.h5\n",
      "File 5: /hpc/hers_basak/rnaseq_data/Basaklab/lpossanzini/kamath/cellbender/SRR20110100/SRR20110100_cellbender_filtered.h5\n",
      "File 6: /hpc/hers_basak/rnaseq_data/Basaklab/lpossanzini/kamath/cellbender/SRR20110151/SRR20110151_cellbender_filtered.h5\n",
      "File 7: /hpc/hers_basak/rnaseq_data/Basaklab/lpossanzini/kamath/cellbender/SRR20110111/SRR20110111_cellbender_filtered.h5\n",
      "File 8: /hpc/hers_basak/rnaseq_data/Basaklab/lpossanzini/kamath/cellbender/SRR20110069/SRR20110069_cellbender_filtered.h5\n",
      "File 9: /hpc/hers_basak/rnaseq_data/Basaklab/lpossanzini/kamath/cellbender/SRR20110107/SRR20110107_cellbender_filtered.h5\n",
      "File 10: /hpc/hers_basak/rnaseq_data/Basaklab/lpossanzini/kamath/cellbender/SRR20110074/SRR20110074_cellbender_filtered.h5\n",
      "File 11: /hpc/hers_basak/rnaseq_data/Basaklab/lpossanzini/kamath/cellbender/SRR20110065/SRR20110065_cellbender_filtered.h5\n",
      "File 12: /hpc/hers_basak/rnaseq_data/Basaklab/lpossanzini/kamath/cellbender/SRR20110124/SRR20110124_cellbender_filtered.h5\n",
      "File 13: /hpc/hers_basak/rnaseq_data/Basaklab/lpossanzini/kamath/cellbender/SRR20110119/SRR20110119_cellbender_filtered.h5\n",
      "File 14: /hpc/hers_basak/rnaseq_data/Basaklab/lpossanzini/kamath/cellbender/SRR20110059/SRR20110059_cellbender_filtered.h5\n",
      "File 15: /hpc/hers_basak/rnaseq_data/Basaklab/lpossanzini/kamath/cellbender/SRR20110105/SRR20110105_cellbender_filtered.h5\n",
      "File 16: /hpc/hers_basak/rnaseq_data/Basaklab/lpossanzini/kamath/cellbender/SRR20110101/SRR20110101_cellbender_filtered.h5\n",
      "File 17: /hpc/hers_basak/rnaseq_data/Basaklab/lpossanzini/kamath/cellbender/SRR20110092/SRR20110092_cellbender_filtered.h5\n",
      "File 18: /hpc/hers_basak/rnaseq_data/Basaklab/lpossanzini/kamath/cellbender/SRR20315334/SRR20315334_cellbender_filtered.h5\n",
      "File 19: /hpc/hers_basak/rnaseq_data/Basaklab/lpossanzini/kamath/cellbender/SRR20110096/SRR20110096_cellbender_filtered.h5\n",
      "File 20: /hpc/hers_basak/rnaseq_data/Basaklab/lpossanzini/kamath/cellbender/SRR20110123/SRR20110123_cellbender_filtered.h5\n",
      "File 21: /hpc/hers_basak/rnaseq_data/Basaklab/lpossanzini/kamath/cellbender/SRR20110108/SRR20110108_cellbender_filtered.h5\n",
      "File 22: /hpc/hers_basak/rnaseq_data/Basaklab/lpossanzini/kamath/cellbender/SRR20110148/SRR20110148_cellbender_filtered.h5\n",
      "File 23: /hpc/hers_basak/rnaseq_data/Basaklab/lpossanzini/kamath/cellbender/SRR20110129/SRR20110129_cellbender_filtered.h5\n",
      "File 24: /hpc/hers_basak/rnaseq_data/Basaklab/lpossanzini/kamath/cellbender/SRR20110133/SRR20110133_cellbender_filtered.h5\n",
      "File 25: /hpc/hers_basak/rnaseq_data/Basaklab/lpossanzini/kamath/cellbender/SRR20110071/SRR20110071_cellbender_filtered.h5\n",
      "File 26: /hpc/hers_basak/rnaseq_data/Basaklab/lpossanzini/kamath/cellbender/SRR20110106/SRR20110106_cellbender_filtered.h5\n",
      "File 27: /hpc/hers_basak/rnaseq_data/Basaklab/lpossanzini/kamath/cellbender/SRR20110090/SRR20110090_cellbender_filtered.h5\n",
      "File 28: /hpc/hers_basak/rnaseq_data/Basaklab/lpossanzini/kamath/cellbender/SRR20110093/SRR20110093_cellbender_filtered.h5\n",
      "File 29: /hpc/hers_basak/rnaseq_data/Basaklab/lpossanzini/kamath/cellbender/SRR20110078/SRR20110078_cellbender_filtered.h5\n",
      "File 30: /hpc/hers_basak/rnaseq_data/Basaklab/lpossanzini/kamath/cellbender/SRR20110145/SRR20110145_cellbender_filtered.h5\n",
      "File 31: /hpc/hers_basak/rnaseq_data/Basaklab/lpossanzini/kamath/cellbender/SRR20110095/SRR20110095_cellbender_filtered.h5\n",
      "File 32: /hpc/hers_basak/rnaseq_data/Basaklab/lpossanzini/kamath/cellbender/SRR20110112/SRR20110112_cellbender_filtered.h5\n",
      "File 33: /hpc/hers_basak/rnaseq_data/Basaklab/lpossanzini/kamath/cellbender/SRR20110149/SRR20110149_cellbender_filtered.h5\n",
      "File 34: /hpc/hers_basak/rnaseq_data/Basaklab/lpossanzini/kamath/cellbender/SRR20110103/SRR20110103_cellbender_filtered.h5\n",
      "File 35: /hpc/hers_basak/rnaseq_data/Basaklab/lpossanzini/kamath/cellbender/SRR20110139/SRR20110139_cellbender_filtered.h5\n",
      "File 36: /hpc/hers_basak/rnaseq_data/Basaklab/lpossanzini/kamath/cellbender/SRR20110062/SRR20110062_cellbender_filtered.h5\n",
      "File 37: /hpc/hers_basak/rnaseq_data/Basaklab/lpossanzini/kamath/cellbender/SRR20110125/SRR20110125_cellbender_filtered.h5\n",
      "File 38: /hpc/hers_basak/rnaseq_data/Basaklab/lpossanzini/kamath/cellbender/SRR20110150/SRR20110150_cellbender_filtered.h5\n",
      "File 39: /hpc/hers_basak/rnaseq_data/Basaklab/lpossanzini/kamath/cellbender/SRR20110140/SRR20110140_cellbender_filtered.h5\n",
      "File 40: /hpc/hers_basak/rnaseq_data/Basaklab/lpossanzini/kamath/cellbender/SRR20110083/SRR20110083_cellbender_filtered.h5\n",
      "File 41: /hpc/hers_basak/rnaseq_data/Basaklab/lpossanzini/kamath/cellbender/SRR20110077/SRR20110077_cellbender_filtered.h5\n",
      "File 42: /hpc/hers_basak/rnaseq_data/Basaklab/lpossanzini/kamath/cellbender/SRR20110073/SRR20110073_cellbender_filtered.h5\n",
      "File 43: /hpc/hers_basak/rnaseq_data/Basaklab/lpossanzini/kamath/cellbender/SRR20110094/SRR20110094_cellbender_filtered.h5\n",
      "File 44: /hpc/hers_basak/rnaseq_data/Basaklab/lpossanzini/kamath/cellbender/SRR20110135/SRR20110135_cellbender_filtered.h5\n",
      "File 45: /hpc/hers_basak/rnaseq_data/Basaklab/lpossanzini/kamath/cellbender/SRR20110102/SRR20110102_cellbender_filtered.h5\n",
      "File 46: /hpc/hers_basak/rnaseq_data/Basaklab/lpossanzini/kamath/cellbender/SRR20110058/SRR20110058_cellbender_filtered.h5\n",
      "File 47: /hpc/hers_basak/rnaseq_data/Basaklab/lpossanzini/kamath/cellbender/SRR20110081/SRR20110081_cellbender_filtered.h5\n",
      "File 48: /hpc/hers_basak/rnaseq_data/Basaklab/lpossanzini/kamath/cellbender/SRR20110086/SRR20110086_cellbender_filtered.h5\n",
      "File 49: /hpc/hers_basak/rnaseq_data/Basaklab/lpossanzini/kamath/cellbender/SRR20110098/SRR20110098_cellbender_filtered.h5\n",
      "File 50: /hpc/hers_basak/rnaseq_data/Basaklab/lpossanzini/kamath/cellbender/SRR20110118/SRR20110118_cellbender_filtered.h5\n",
      "File 51: /hpc/hers_basak/rnaseq_data/Basaklab/lpossanzini/kamath/cellbender/SRR20110136/SRR20110136_cellbender_filtered.h5\n",
      "File 52: /hpc/hers_basak/rnaseq_data/Basaklab/lpossanzini/kamath/cellbender/SRR20110137/SRR20110137_cellbender_filtered.h5\n",
      "File 53: /hpc/hers_basak/rnaseq_data/Basaklab/lpossanzini/kamath/cellbender/SRR20110131/SRR20110131_cellbender_filtered.h5\n",
      "File 54: /hpc/hers_basak/rnaseq_data/Basaklab/lpossanzini/kamath/cellbender/SRR20110138/SRR20110138_cellbender_filtered.h5\n",
      "File 55: /hpc/hers_basak/rnaseq_data/Basaklab/lpossanzini/kamath/cellbender/SRR20110099/SRR20110099_cellbender_filtered.h5\n",
      "File 56: /hpc/hers_basak/rnaseq_data/Basaklab/lpossanzini/kamath/cellbender/SRR20110152/SRR20110152_cellbender_filtered.h5\n",
      "File 57: /hpc/hers_basak/rnaseq_data/Basaklab/lpossanzini/kamath/cellbender/SRR20110147/SRR20110147_cellbender_filtered.h5\n",
      "File 58: /hpc/hers_basak/rnaseq_data/Basaklab/lpossanzini/kamath/cellbender/SRR20110072/SRR20110072_cellbender_filtered.h5\n",
      "File 59: /hpc/hers_basak/rnaseq_data/Basaklab/lpossanzini/kamath/cellbender/SRR20110060/SRR20110060_cellbender_filtered.h5\n",
      "File 60: /hpc/hers_basak/rnaseq_data/Basaklab/lpossanzini/kamath/cellbender/SRR20110089/SRR20110089_cellbender_filtered.h5\n",
      "File 61: /hpc/hers_basak/rnaseq_data/Basaklab/lpossanzini/kamath/cellbender/SRR20110117/SRR20110117_cellbender_filtered.h5\n",
      "File 62: /hpc/hers_basak/rnaseq_data/Basaklab/lpossanzini/kamath/cellbender/SRR20110076/SRR20110076_cellbender_filtered.h5\n",
      "File 63: /hpc/hers_basak/rnaseq_data/Basaklab/lpossanzini/kamath/cellbender/SRR20110143/SRR20110143_cellbender_filtered.h5\n",
      "File 64: /hpc/hers_basak/rnaseq_data/Basaklab/lpossanzini/kamath/cellbender/SRR20110067/SRR20110067_cellbender_filtered.h5\n",
      "File 65: /hpc/hers_basak/rnaseq_data/Basaklab/lpossanzini/kamath/cellbender/SRR20110127/SRR20110127_cellbender_filtered.h5\n",
      "File 66: /hpc/hers_basak/rnaseq_data/Basaklab/lpossanzini/kamath/cellbender/SRR20110064/SRR20110064_cellbender_filtered.h5\n",
      "File 67: /hpc/hers_basak/rnaseq_data/Basaklab/lpossanzini/kamath/cellbender/SRR20110142/SRR20110142_cellbender_filtered.h5\n",
      "File 68: /hpc/hers_basak/rnaseq_data/Basaklab/lpossanzini/kamath/cellbender/SRR20110084/SRR20110084_cellbender_filtered.h5\n",
      "File 69: /hpc/hers_basak/rnaseq_data/Basaklab/lpossanzini/kamath/cellbender/SRR20110134/SRR20110134_cellbender_filtered.h5\n",
      "File 70: /hpc/hers_basak/rnaseq_data/Basaklab/lpossanzini/kamath/cellbender/SRR20110066/SRR20110066_cellbender_filtered.h5\n",
      "File 71: /hpc/hers_basak/rnaseq_data/Basaklab/lpossanzini/kamath/cellbender/SRR20110115/SRR20110115_cellbender_filtered.h5\n",
      "File 72: /hpc/hers_basak/rnaseq_data/Basaklab/lpossanzini/kamath/cellbender/SRR20110061/SRR20110061_cellbender_filtered.h5\n",
      "File 73: /hpc/hers_basak/rnaseq_data/Basaklab/lpossanzini/kamath/cellbender/SRR20110116/SRR20110116_cellbender_filtered.h5\n",
      "File 74: /hpc/hers_basak/rnaseq_data/Basaklab/lpossanzini/kamath/cellbender/SRR20110144/SRR20110144_cellbender_filtered.h5\n",
      "File 75: /hpc/hers_basak/rnaseq_data/Basaklab/lpossanzini/kamath/cellbender/SRR20110080/SRR20110080_cellbender_filtered.h5\n",
      "File 76: /hpc/hers_basak/rnaseq_data/Basaklab/lpossanzini/kamath/cellbender/SRR20110126/SRR20110126_cellbender_filtered.h5\n",
      "File 77: /hpc/hers_basak/rnaseq_data/Basaklab/lpossanzini/kamath/cellbender/SRR20110114/SRR20110114_cellbender_filtered.h5\n",
      "File 78: /hpc/hers_basak/rnaseq_data/Basaklab/lpossanzini/kamath/cellbender/SRR20110120/SRR20110120_cellbender_filtered.h5\n",
      "File 79: /hpc/hers_basak/rnaseq_data/Basaklab/lpossanzini/kamath/cellbender/SRR20110091/SRR20110091_cellbender_filtered.h5\n",
      "File 80: /hpc/hers_basak/rnaseq_data/Basaklab/lpossanzini/kamath/cellbender/SRR20110122/SRR20110122_cellbender_filtered.h5\n",
      "File 81: /hpc/hers_basak/rnaseq_data/Basaklab/lpossanzini/kamath/cellbender/SRR20110057/SRR20110057_cellbender_filtered.h5\n",
      "File 82: /hpc/hers_basak/rnaseq_data/Basaklab/lpossanzini/kamath/cellbender/SRR20315336/SRR20315336_cellbender_filtered.h5\n",
      "File 83: /hpc/hers_basak/rnaseq_data/Basaklab/lpossanzini/kamath/cellbender/SRR20110075/SRR20110075_cellbender_filtered.h5\n"
     ]
    }
   ],
   "source": [
    "import os\n",
    "\n",
    "# Directory containing subfolders with ..._cellbender_filtered.h5 files\n",
    "base_dir = '/hpc/hers_basak/rnaseq_data/Basaklab/lpossanzini/kamath/cellbender'\n",
    "\n",
    "# Traverse the base directory to find ..._cellbender_filtered.h5 files and print them in order\n",
    "file_paths = []\n",
    "\n",
    "for root, dirs, files in os.walk(base_dir):\n",
    "    for file in files:\n",
    "        if file.endswith('_cellbender_filtered.h5'):\n",
    "            file_path = os.path.join(root, file)\n",
    "            file_paths.append(file_path)\n",
    "\n",
    "# Print the order of the files as they were processed\n",
    "for idx, file_path in enumerate(file_paths):\n",
    "    print(f\"File {idx}: {file_path}\")\n"
   ]
  },
  {
   "cell_type": "code",
   "execution_count": 25,
   "id": "99e26e0f",
   "metadata": {
    "scrolled": true
   },
   "outputs": [
    {
     "data": {
      "text/plain": [
       "{'SRR20110141': 0,\n",
       " 'SRR20110079': 1,\n",
       " 'SRR20110097': 2,\n",
       " 'SRR20110085': 3,\n",
       " 'SRR20110113': 4,\n",
       " 'SRR20110100': 5,\n",
       " 'SRR20110151': 6,\n",
       " 'SRR20110111': 7,\n",
       " 'SRR20110069': 8,\n",
       " 'SRR20110107': 9,\n",
       " 'SRR20110074': 10,\n",
       " 'SRR20110065': 11,\n",
       " 'SRR20110124': 12,\n",
       " 'SRR20110119': 13,\n",
       " 'SRR20110059': 14,\n",
       " 'SRR20110105': 15,\n",
       " 'SRR20110101': 16,\n",
       " 'SRR20110092': 17,\n",
       " 'SRR20315334': 18,\n",
       " 'SRR20110096': 19,\n",
       " 'SRR20110123': 20,\n",
       " 'SRR20110108': 21,\n",
       " 'SRR20110148': 22,\n",
       " 'SRR20110129': 23,\n",
       " 'SRR20110133': 24,\n",
       " 'SRR20110071': 25,\n",
       " 'SRR20110106': 26,\n",
       " 'SRR20110090': 27,\n",
       " 'SRR20110093': 28,\n",
       " 'SRR20110078': 29,\n",
       " 'SRR20110145': 30,\n",
       " 'SRR20110095': 31,\n",
       " 'SRR20110112': 32,\n",
       " 'SRR20110149': 33,\n",
       " 'SRR20110103': 34,\n",
       " 'SRR20110139': 35,\n",
       " 'SRR20110062': 36,\n",
       " 'SRR20110125': 37,\n",
       " 'SRR20110150': 38,\n",
       " 'SRR20110140': 39,\n",
       " 'SRR20110083': 40,\n",
       " 'SRR20110077': 41,\n",
       " 'SRR20110073': 42,\n",
       " 'SRR20110094': 43,\n",
       " 'SRR20110135': 44,\n",
       " 'SRR20110102': 45,\n",
       " 'SRR20110058': 46,\n",
       " 'SRR20110081': 47,\n",
       " 'SRR20110086': 48,\n",
       " 'SRR20110098': 49,\n",
       " 'SRR20110118': 50,\n",
       " 'SRR20110136': 51,\n",
       " 'SRR20110137': 52,\n",
       " 'SRR20110131': 53,\n",
       " 'SRR20110138': 54,\n",
       " 'SRR20110099': 55,\n",
       " 'SRR20110152': 56,\n",
       " 'SRR20110147': 57,\n",
       " 'SRR20110072': 58,\n",
       " 'SRR20110060': 59,\n",
       " 'SRR20110089': 60,\n",
       " 'SRR20110117': 61,\n",
       " 'SRR20110076': 62,\n",
       " 'SRR20110143': 63,\n",
       " 'SRR20110067': 64,\n",
       " 'SRR20110127': 65,\n",
       " 'SRR20110064': 66,\n",
       " 'SRR20110142': 67,\n",
       " 'SRR20110084': 68,\n",
       " 'SRR20110134': 69,\n",
       " 'SRR20110066': 70,\n",
       " 'SRR20110115': 71,\n",
       " 'SRR20110061': 72,\n",
       " 'SRR20110116': 73,\n",
       " 'SRR20110144': 74,\n",
       " 'SRR20110080': 75,\n",
       " 'SRR20110126': 76,\n",
       " 'SRR20110114': 77,\n",
       " 'SRR20110120': 78,\n",
       " 'SRR20110091': 79,\n",
       " 'SRR20110122': 80,\n",
       " 'SRR20110057': 81,\n",
       " 'SRR20315336': 82,\n",
       " 'SRR20110075': 83}"
      ]
     },
     "execution_count": 25,
     "metadata": {},
     "output_type": "execute_result"
    }
   ],
   "source": [
    "# Create a dictionary to store SRR numbers and their corresponding file order index\n",
    "srr_dict = {}\n",
    "# Traverse the file_paths list and extract the SRR number for each file\n",
    "for idx, file_path in enumerate(file_paths):\n",
    "    # Extract the SRR number by splitting the file path\n",
    "    srr_number = file_path.split('/')[-2]  # Assuming the SRR number is the folder name just before the filename\n",
    "    srr_dict[srr_number] = idx\n",
    "    \n",
    "srr_dict\n"
   ]
  },
  {
   "cell_type": "code",
   "execution_count": 26,
   "id": "f77dec85",
   "metadata": {},
   "outputs": [],
   "source": [
    "# Inverting the dictionary\n",
    "batch_dict = {v: k for k, v in srr_dict.items()}\n",
    "batch_dict\n",
    "\n"
   ]
  },
  {
   "cell_type": "code",
   "execution_count": 47,
   "id": "7ae2df71",
   "metadata": {},
   "outputs": [],
   "source": [
    "adata.obs['batch'] = adata.obs['batch'].astype(int)\n",
    "adata.obs['Run'] = adata.obs['batch'].map(batch_dict)"
   ]
  },
  {
   "cell_type": "code",
   "execution_count": 49,
   "id": "1b83826b",
   "metadata": {},
   "outputs": [
    {
     "data": {
      "text/plain": [
       "450276"
      ]
     },
     "execution_count": 49,
     "metadata": {},
     "output_type": "execute_result"
    }
   ],
   "source": [
    "adata.obs['Run'].count()"
   ]
  },
  {
   "cell_type": "code",
   "execution_count": 59,
   "id": "f30da63b",
   "metadata": {},
   "outputs": [
    {
     "name": "stdout",
     "output_type": "stream",
     "text": [
      "           Run histological_type                  sample_name   sex  \\\n",
      "0  SRR20110139  Substantia Nigra   pPDsHSrSNxi4568d200429PosA  male   \n",
      "1  SRR20110064  Substantia Nigra   pPDsHSrSNxi4775d200429PosB  male   \n",
      "2  SRR20110120  Substantia Nigra  pPDsHSrSNxi3887d200429DAPIA  male   \n",
      "3  SRR20110114  Substantia Nigra  pPDsHSrSNxi4775d200429DAPIB  male   \n",
      "4  SRR20110090  Substantia Nigra   pPDsHSrSNxi4775d200429PosA  male   \n",
      "\n",
      "   submitted_subject_id study_disease  \n",
      "0                  4568            PD  \n",
      "1                  4775            PD  \n",
      "2                  3887            PD  \n",
      "3                  4775            PD  \n",
      "4                  4775            PD  \n"
     ]
    }
   ],
   "source": [
    "file_path = '/hpc/hers_basak/rnaseq_data/Basaklab/lpossanzini/kamath/extra/metadata.xlsx'\n",
    "additional_data = pd.read_excel(file_path)\n",
    "print(additional_data.head())"
   ]
  },
  {
   "cell_type": "code",
   "execution_count": 60,
   "id": "646feb85",
   "metadata": {},
   "outputs": [
    {
     "data": {
      "text/plain": [
       "dtype('O')"
      ]
     },
     "execution_count": 60,
     "metadata": {},
     "output_type": "execute_result"
    }
   ],
   "source": [
    "adata.obs['Run'].dtype\n",
    "additional_data['Run'].dtype"
   ]
  },
  {
   "cell_type": "code",
   "execution_count": 61,
   "id": "d703c904",
   "metadata": {},
   "outputs": [],
   "source": [
    "additional_data.set_index('Run', inplace=True)\n",
    "\n",
    "columns_to_update = ['sex', 'submitted_subject_id', 'study_disease', 'histological_type', 'sample_name']\n",
    "\n",
    "\n",
    "for column in columns_to_update:\n",
    "    if column not in adata.obs.columns:\n",
    "        adata.obs[column] = pd.NA\n",
    "    \n",
    "    adata.obs.loc[adata.obs['Run'].isin(additional_data.index), column] = (\n",
    "        adata.obs['Run'].map(additional_data[column])\n",
    "    )\n",
    "\n"
   ]
  },
  {
   "cell_type": "code",
   "execution_count": 63,
   "id": "711ff599",
   "metadata": {},
   "outputs": [
    {
     "data": {
      "text/plain": [
       "450276"
      ]
     },
     "execution_count": 63,
     "metadata": {},
     "output_type": "execute_result"
    }
   ],
   "source": [
    "adata.obs['Run'].count()\n",
    "adata.obs['sex'].count()\n",
    "adata.obs['sample_name'].count()\n",
    "adata.obs['submitted_subject_id'].count()\n",
    "adata.obs['study_disease'].count()\n",
    "adata.obs['histological_type'].count()"
   ]
  },
  {
   "cell_type": "code",
   "execution_count": 65,
   "id": "fee9b7f6",
   "metadata": {},
   "outputs": [],
   "source": [
    "# Create the 'matched_names' column in adata.obs\n",
    "adata.obs['matched_names'] = adata.obs['sample_name'].astype(str) + \"_\" + adata.obs.index.astype(str)\n"
   ]
  },
  {
   "cell_type": "code",
   "execution_count": 67,
   "id": "92f3bc7c",
   "metadata": {},
   "outputs": [],
   "source": [
    "published_indices = set(adata_published.obs.index)\n",
    "adata.obs['matched_in_published'] = adata.obs['matched_names'].isin(published_indices)\n"
   ]
  },
  {
   "cell_type": "code",
   "execution_count": 68,
   "id": "7a138098",
   "metadata": {},
   "outputs": [
    {
     "data": {
      "text/plain": [
       "True     339689\n",
       "False    110587\n",
       "Name: matched_in_published, dtype: int64"
      ]
     },
     "execution_count": 68,
     "metadata": {},
     "output_type": "execute_result"
    }
   ],
   "source": [
    "adata.obs['matched_in_published']"
   ]
  },
  {
   "cell_type": "code",
   "execution_count": 72,
   "id": "1cda2fd0",
   "metadata": {},
   "outputs": [
    {
     "data": {
      "text/html": [
       "<div>\n",
       "<style scoped>\n",
       "    .dataframe tbody tr th:only-of-type {\n",
       "        vertical-align: middle;\n",
       "    }\n",
       "\n",
       "    .dataframe tbody tr th {\n",
       "        vertical-align: top;\n",
       "    }\n",
       "\n",
       "    .dataframe thead th {\n",
       "        text-align: right;\n",
       "    }\n",
       "</style>\n",
       "<table border=\"1\" class=\"dataframe\">\n",
       "  <thead>\n",
       "    <tr style=\"text-align: right;\">\n",
       "      <th></th>\n",
       "      <th>Sample_name</th>\n",
       "      <th>barcode</th>\n",
       "      <th>leiden</th>\n",
       "    </tr>\n",
       "  </thead>\n",
       "  <tbody>\n",
       "    <tr>\n",
       "      <th>pPDCN3839DAPIA030419_AAACCCAAGAATCGCG-1</th>\n",
       "      <td>pPDCN3839DAPIA030419</td>\n",
       "      <td>AAACCCAAGAATCGCG-1</td>\n",
       "      <td>30</td>\n",
       "    </tr>\n",
       "    <tr>\n",
       "      <th>pPDCN3839DAPIA030419_ACCCAAAGTATCTCTT-1</th>\n",
       "      <td>pPDCN3839DAPIA030419</td>\n",
       "      <td>ACCCAAAGTATCTCTT-1</td>\n",
       "      <td>24</td>\n",
       "    </tr>\n",
       "    <tr>\n",
       "      <th>pPDCN3839DAPIA030419_ACCCTCAGTAGGACCA-1</th>\n",
       "      <td>pPDCN3839DAPIA030419</td>\n",
       "      <td>ACCCTCAGTAGGACCA-1</td>\n",
       "      <td>30</td>\n",
       "    </tr>\n",
       "    <tr>\n",
       "      <th>pPDCN3839DAPIA030419_ACTACGAGTTGTGTAC-1</th>\n",
       "      <td>pPDCN3839DAPIA030419</td>\n",
       "      <td>ACTACGAGTTGTGTAC-1</td>\n",
       "      <td>30</td>\n",
       "    </tr>\n",
       "    <tr>\n",
       "      <th>pPDCN3839DAPIA030419_ACTTTGTGTGCTATTG-1</th>\n",
       "      <td>pPDCN3839DAPIA030419</td>\n",
       "      <td>ACTTTGTGTGCTATTG-1</td>\n",
       "      <td>30</td>\n",
       "    </tr>\n",
       "    <tr>\n",
       "      <th>...</th>\n",
       "      <td>...</td>\n",
       "      <td>...</td>\n",
       "      <td>...</td>\n",
       "    </tr>\n",
       "    <tr>\n",
       "      <th>pPDsHSrSNxi6173d200429PosB_CAGATACGTATTGACC-1</th>\n",
       "      <td>pPDsHSrSNxi6173d200429PosB</td>\n",
       "      <td>CAGATACGTATTGACC-1</td>\n",
       "      <td>5</td>\n",
       "    </tr>\n",
       "    <tr>\n",
       "      <th>pPDsHSrSNxi6173d200429PosB_CATTCCGGTCATGACT-1</th>\n",
       "      <td>pPDsHSrSNxi6173d200429PosB</td>\n",
       "      <td>CATTCCGGTCATGACT-1</td>\n",
       "      <td>5</td>\n",
       "    </tr>\n",
       "    <tr>\n",
       "      <th>pPDsHSrSNxi6173d200429PosB_GCTTGGGTCCCAATAG-1</th>\n",
       "      <td>pPDsHSrSNxi6173d200429PosB</td>\n",
       "      <td>GCTTGGGTCCCAATAG-1</td>\n",
       "      <td>5</td>\n",
       "    </tr>\n",
       "    <tr>\n",
       "      <th>pPDsHSrSNxi6173d200429PosB_TACCGGGTCGAGAAAT-1</th>\n",
       "      <td>pPDsHSrSNxi6173d200429PosB</td>\n",
       "      <td>TACCGGGTCGAGAAAT-1</td>\n",
       "      <td>5</td>\n",
       "    </tr>\n",
       "    <tr>\n",
       "      <th>pPDsHSrSNxi6173d200429PosB_CGCGTGAAGCTGGCCT-1</th>\n",
       "      <td>pPDsHSrSNxi6173d200429PosB</td>\n",
       "      <td>CGCGTGAAGCTGGCCT-1</td>\n",
       "      <td>5</td>\n",
       "    </tr>\n",
       "  </tbody>\n",
       "</table>\n",
       "<p>434354 rows × 3 columns</p>\n",
       "</div>"
      ],
      "text/plain": [
       "                                                              Sample_name  \\\n",
       "pPDCN3839DAPIA030419_AAACCCAAGAATCGCG-1              pPDCN3839DAPIA030419   \n",
       "pPDCN3839DAPIA030419_ACCCAAAGTATCTCTT-1              pPDCN3839DAPIA030419   \n",
       "pPDCN3839DAPIA030419_ACCCTCAGTAGGACCA-1              pPDCN3839DAPIA030419   \n",
       "pPDCN3839DAPIA030419_ACTACGAGTTGTGTAC-1              pPDCN3839DAPIA030419   \n",
       "pPDCN3839DAPIA030419_ACTTTGTGTGCTATTG-1              pPDCN3839DAPIA030419   \n",
       "...                                                                   ...   \n",
       "pPDsHSrSNxi6173d200429PosB_CAGATACGTATTGACC-1  pPDsHSrSNxi6173d200429PosB   \n",
       "pPDsHSrSNxi6173d200429PosB_CATTCCGGTCATGACT-1  pPDsHSrSNxi6173d200429PosB   \n",
       "pPDsHSrSNxi6173d200429PosB_GCTTGGGTCCCAATAG-1  pPDsHSrSNxi6173d200429PosB   \n",
       "pPDsHSrSNxi6173d200429PosB_TACCGGGTCGAGAAAT-1  pPDsHSrSNxi6173d200429PosB   \n",
       "pPDsHSrSNxi6173d200429PosB_CGCGTGAAGCTGGCCT-1  pPDsHSrSNxi6173d200429PosB   \n",
       "\n",
       "                                                          barcode leiden  \n",
       "pPDCN3839DAPIA030419_AAACCCAAGAATCGCG-1        AAACCCAAGAATCGCG-1     30  \n",
       "pPDCN3839DAPIA030419_ACCCAAAGTATCTCTT-1        ACCCAAAGTATCTCTT-1     24  \n",
       "pPDCN3839DAPIA030419_ACCCTCAGTAGGACCA-1        ACCCTCAGTAGGACCA-1     30  \n",
       "pPDCN3839DAPIA030419_ACTACGAGTTGTGTAC-1        ACTACGAGTTGTGTAC-1     30  \n",
       "pPDCN3839DAPIA030419_ACTTTGTGTGCTATTG-1        ACTTTGTGTGCTATTG-1     30  \n",
       "...                                                           ...    ...  \n",
       "pPDsHSrSNxi6173d200429PosB_CAGATACGTATTGACC-1  CAGATACGTATTGACC-1      5  \n",
       "pPDsHSrSNxi6173d200429PosB_CATTCCGGTCATGACT-1  CATTCCGGTCATGACT-1      5  \n",
       "pPDsHSrSNxi6173d200429PosB_GCTTGGGTCCCAATAG-1  GCTTGGGTCCCAATAG-1      5  \n",
       "pPDsHSrSNxi6173d200429PosB_TACCGGGTCGAGAAAT-1  TACCGGGTCGAGAAAT-1      5  \n",
       "pPDsHSrSNxi6173d200429PosB_CGCGTGAAGCTGGCCT-1  CGCGTGAAGCTGGCCT-1      5  \n",
       "\n",
       "[434354 rows x 3 columns]"
      ]
     },
     "execution_count": 72,
     "metadata": {},
     "output_type": "execute_result"
    }
   ],
   "source": [
    "adata_published.obs"
   ]
  },
  {
   "cell_type": "code",
   "execution_count": null,
   "id": "cb720a43",
   "metadata": {},
   "outputs": [],
   "source": []
  }
 ],
 "metadata": {
  "kernelspec": {
   "display_name": "Python 3",
   "language": "python",
   "name": "python3"
  },
  "language_info": {
   "codemirror_mode": {
    "name": "ipython",
    "version": 3
   },
   "file_extension": ".py",
   "mimetype": "text/x-python",
   "name": "python",
   "nbconvert_exporter": "python",
   "pygments_lexer": "ipython3",
   "version": "3.9.9"
  }
 },
 "nbformat": 4,
 "nbformat_minor": 5
}
